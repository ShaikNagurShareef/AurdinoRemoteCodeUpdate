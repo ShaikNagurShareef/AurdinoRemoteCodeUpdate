{
 "cells": [
  {
   "cell_type": "code",
   "execution_count": 12,
   "metadata": {},
   "outputs": [
    {
     "name": "stdout",
     "output_type": "stream",
     "text": [
      "File transfer successful.\n",
      "Command Output for 'python3 /Users/tejacherukuri/Shareef/RemoteCodeUpdate/update_code_runner.py':\n",
      "Upload successful.\n",
      "\n"
     ]
    }
   ],
   "source": [
    "import os\n",
    "from utils import ssh_connect, compare_and_update, get_fqbn_and_port, create_and_write_arduino_code, compile_arduino_sketch, upload_arduino_sketch, transfer_file\n",
    "\n",
    "try:\n",
    "    # source file path\n",
    "    source_file = \"updated_code.ino\"\n",
    "\n",
    "    # target file path\n",
    "    target_file = \"/Users/nagurshareefshaik/Desktop/MSCS/MORSE Studio - GRA/RemoteCodeUpdate/arduino_code.ino\"\n",
    "\n",
    "    # compare and check if the target file is updated\n",
    "    update_flag = compare_and_update(source_file, target_file)\n",
    "\n",
    "    # Destination server details\n",
    "    host = \"10.0.0.78\" #\"10.0.0.78\" #\"Tejas-Air.wifi.gsu.edu\"\n",
    "    username = \"tejacherukuri\"\n",
    "    private_key = \"/Users/nagurshareefshaik/.ssh/id_arduino_teja\"\n",
    "\n",
    "    # passphrase to decrypt the private key\n",
    "    passphrase = \"ghs@195L\" #getpass.getpass(\"Enter the passphrase for your private key: \")\n",
    "\n",
    "    code_loc = \"/Users/tejacherukuri/Shareef/RemoteCodeUpdate/\"\n",
    "    remote_directory = \"/Users/tejacherukuri/Shareef/CodeFiles/\"\n",
    "    local_file = \"/Users/nagurshareefshaik/Desktop/MSCS/MORSE Studio - GRA/RemoteCodeUpdate/arduino_code.ino\" # same as target file\n",
    "\n",
    "    # transfer code file to remote\n",
    "    file_transfer = transfer_file(host, username, local_file, remote_directory, private_key)\n",
    "\n",
    "    # command to trigger the Python script\n",
    "    trigger_py_script = f\"python3 {code_loc}update_code_runner.py\"\n",
    "\n",
    "    # List of remote commands to run (replace with your desired commands)\n",
    "    remote_commands = [trigger_py_script]#,\n",
    "\n",
    "    # If the code is updated, then do SSH, move the updated code to the remote, compile, and upload Arduino code\n",
    "    if update_flag and file_transfer:\n",
    "        # do SSH and execute commands\n",
    "        ssh_connect(host, username, private_key, passphrase, remote_commands)\n",
    "\n",
    "except Exception as e:\n",
    "    print(f\"An error occurred: {e}\")\n"
   ]
  },
  {
   "cell_type": "code",
   "execution_count": 6,
   "metadata": {},
   "outputs": [
    {
     "name": "stdout",
     "output_type": "stream",
     "text": [
      "File transfer successful.\n",
      "Upload successful.\n",
      "\n",
      "File transfer successful.\n",
      "Upload successful.\n",
      "\n"
     ]
    },
    {
     "ename": "KeyboardInterrupt",
     "evalue": "",
     "output_type": "error",
     "traceback": [
      "\u001b[0;31m---------------------------------------------------------------------------\u001b[0m",
      "\u001b[0;31mKeyboardInterrupt\u001b[0m                         Traceback (most recent call last)",
      "\u001b[1;32m/Users/nagurshareefshaik/Desktop/MSCS/MORSE Studio - GRA/RemoteCodeUpdate/CodeDebuggingNotebook.ipynb Cell 2\u001b[0m line \u001b[0;36m2\n\u001b[1;32m     <a href='vscode-notebook-cell:/Users/nagurshareefshaik/Desktop/MSCS/MORSE%20Studio%20-%20GRA/RemoteCodeUpdate/CodeDebuggingNotebook.ipynb#W3sZmlsZQ%3D%3D?line=18'>19</a>\u001b[0m \u001b[39mwhile\u001b[39;00m \u001b[39mTrue\u001b[39;00m:\n\u001b[1;32m     <a href='vscode-notebook-cell:/Users/nagurshareefshaik/Desktop/MSCS/MORSE%20Studio%20-%20GRA/RemoteCodeUpdate/CodeDebuggingNotebook.ipynb#W3sZmlsZQ%3D%3D?line=19'>20</a>\u001b[0m     schedule\u001b[39m.\u001b[39mrun_pending()\n\u001b[0;32m---> <a href='vscode-notebook-cell:/Users/nagurshareefshaik/Desktop/MSCS/MORSE%20Studio%20-%20GRA/RemoteCodeUpdate/CodeDebuggingNotebook.ipynb#W3sZmlsZQ%3D%3D?line=20'>21</a>\u001b[0m     time\u001b[39m.\u001b[39;49msleep(\u001b[39m1\u001b[39;49m)\n",
      "\u001b[0;31mKeyboardInterrupt\u001b[0m: "
     ]
    }
   ],
   "source": [
    "# pip install schedule\n",
    "import schedule\n",
    "import time\n",
    "import subprocess\n",
    "\n",
    "def run_target_script():\n",
    "    # Replace 'your_script.py' with the full path to your Python script\n",
    "    script_path = \"/Users/nagurshareefshaik/Desktop/MSCS/MORSE Studio - GRA/RemoteCodeUpdate/starter.py\"\n",
    "    \n",
    "    try:\n",
    "        subprocess.run(['python', script_path], check=True)\n",
    "    except subprocess.CalledProcessError as e:\n",
    "        print(f\"Error running the script: {e}\")\n",
    "\n",
    "# Schedule the task to run every minute\n",
    "schedule.every(1).minutes.do(run_target_script)\n",
    "\n",
    "# Run the scheduled tasks continuously\n",
    "while True:\n",
    "    schedule.run_pending()\n",
    "    time.sleep(1)\n"
   ]
  },
  {
   "cell_type": "code",
   "execution_count": null,
   "metadata": {},
   "outputs": [],
   "source": []
  }
 ],
 "metadata": {
  "kernelspec": {
   "display_name": "base",
   "language": "python",
   "name": "python3"
  },
  "language_info": {
   "codemirror_mode": {
    "name": "ipython",
    "version": 3
   },
   "file_extension": ".py",
   "mimetype": "text/x-python",
   "name": "python",
   "nbconvert_exporter": "python",
   "pygments_lexer": "ipython3",
   "version": "3.10.9"
  }
 },
 "nbformat": 4,
 "nbformat_minor": 2
}
